{
 "cells": [
  {
   "cell_type": "code",
   "execution_count": 112,
   "id": "19630d6b",
   "metadata": {},
   "outputs": [],
   "source": [
    "import torch\n",
    "import torch.nn as nn\n",
    "import torch.optim as optim\n",
    "from torch.utils.data import Dataset, DataLoader\n",
    "from torchvision import models, transforms, datasets\n",
    "import os\n",
    "import numpy as np\n",
    "from statistics import mode"
   ]
  },
  {
   "cell_type": "code",
   "execution_count": 101,
   "id": "e8e8b60b",
   "metadata": {},
   "outputs": [
    {
     "name": "stdout",
     "output_type": "stream",
     "text": [
      "cuda:0\n"
     ]
    }
   ],
   "source": [
    "# Send the model to the GPU\n",
    "device = torch.device('cuda:0' if torch.cuda.is_available() else 'cpu')\n",
    "print(device)"
   ]
  },
  {
   "cell_type": "code",
   "execution_count": 215,
   "id": "f22b3acc",
   "metadata": {},
   "outputs": [],
   "source": [
    "#CNN Network\n",
    "class ConvNet(nn.Module):\n",
    "    def __init__(self,num_classes=25):\n",
    "        super(ConvNet,self).__init__()\n",
    "        #Output size after convolution filter\n",
    "        #((w-f+2P)/s) +1\n",
    "        #Input shape= (256,3,150,150)\n",
    "        self.conv1=nn.Conv2d(in_channels=3,out_channels=12,kernel_size=3,stride=1,padding=1)\n",
    "        #Shape= (256,12,150,150)\n",
    "        self.bn1=nn.BatchNorm2d(num_features=12)\n",
    "        #Shape= (256,12,150,150)\n",
    "        self.relu1=nn.ReLU()\n",
    "        #Shape= (256,12,150,150)\n",
    "        self.pool=nn.MaxPool2d(kernel_size=2)\n",
    "        #Reduce the image size be factor 2\n",
    "        #Shape= (256,12,75,75)\n",
    "        self.conv2=nn.Conv2d(in_channels=12,out_channels=20,kernel_size=3,stride=1,padding=1)\n",
    "        #Shape= (256,20,150,150)\n",
    "        self.bn2=nn.BatchNorm2d(num_features=20)\n",
    "        #Shape= (256,20,150,150)\n",
    "        self.relu2=nn.ReLU()\n",
    "        #Shape= (256,20,150,150)\n",
    "        \n",
    "        self.conv3=nn.Conv2d(in_channels=20,out_channels=32,kernel_size=3,stride=1,padding=1)\n",
    "        #Shape= (256,32,75,75)\n",
    "        self.relu3=nn.ReLU()\n",
    "        #Shape= (256,32,75,75)\n",
    "        \n",
    "        self.conv4=nn.Conv2d(in_channels=32,out_channels=46,kernel_size=3,stride=1,padding=1)\n",
    "        #Shape= (256,46,75,75)\n",
    "        self.bn4=nn.BatchNorm2d(num_features=46)\n",
    "        #Shape= (256,46,75,75)\n",
    "        self.relu4=nn.ReLU()\n",
    "        #Shape= (256,46,75,75)\n",
    "        \n",
    "        self.conv5=nn.Conv2d(in_channels=46,out_channels=60,kernel_size=3,stride=1,padding=1)\n",
    "        #Shape= (256,60,75,75)\n",
    "        self.bn5=nn.BatchNorm2d(num_features=60)\n",
    "        #Shape= (256,60,75,75)\n",
    "        self.relu5=nn.ReLU()\n",
    "        #Shape= (256,60,75,75)\n",
    "        \n",
    "        self.fc=nn.Linear(in_features=7 * 7 * 60,out_features=num_classes)\n",
    "        \n",
    "        #Feed forward function\n",
    "        \n",
    "    def forward(self,input):\n",
    "        output=self.conv1(input)\n",
    "        output=self.bn1(output)\n",
    "        output=self.relu1(output)\n",
    "        output=self.pool(output)\n",
    "        \n",
    "        output=self.conv2(output)\n",
    "        output=self.bn2(output)\n",
    "        output=self.relu2(output)\n",
    "            \n",
    "        output=self.conv3(output)\n",
    "        output=self.relu3(output)\n",
    "            \n",
    "        output=self.conv4(output)\n",
    "        output=self.bn4(output)\n",
    "        output=self.relu4(output)\n",
    "        \n",
    "        output=self.conv5(output)\n",
    "        output=self.bn5(output)\n",
    "        output=self.relu5(output)\n",
    "            \n",
    "        #Above output will be in matrix form, with shape (256,60,75,75)\n",
    "            \n",
    "        output=output.view(-1,60*7*7)\n",
    "                \n",
    "        output=self.fc(output)\n",
    "            \n",
    "        return output"
   ]
  },
  {
   "cell_type": "code",
   "execution_count": 207,
   "id": "173daf52",
   "metadata": {},
   "outputs": [],
   "source": [
    "# Define transforms to be applied to the image data\n",
    "transform = transforms.Compose([\n",
    "    transforms.Resize(75),\n",
    "    transforms.CenterCrop(224),\n",
    "    transforms.RandomHorizontalFlip(),\n",
    "    transforms.RandomVerticalFlip(),\n",
    "    transforms.RandomRotation(30),\n",
    "    transforms.ToTensor(),\n",
    "    transforms.Normalize((0.5, 0.5, 0.5), (0.5, 0.5, 0.5))\n",
    "])\n"
   ]
  },
  {
   "cell_type": "code",
   "execution_count": 239,
   "id": "be6c8ca5",
   "metadata": {},
   "outputs": [],
   "source": [
    "# Load the dataset\n",
    "train_dataset = datasets.ImageFolder(\"D:/tay/Data/Data_crop/Data_split/classes_image/image_train/\", transform=transform)\n",
    "\n",
    "# Define the data loader\n",
    "train_loader = DataLoader(train_dataset, batch_size=1, shuffle=True)\n",
    "\n",
    "# Define the label names\n",
    "label_names = train_dataset.classes"
   ]
  },
  {
   "cell_type": "code",
   "execution_count": 80,
   "id": "a1ff9282",
   "metadata": {},
   "outputs": [
    {
     "name": "stdout",
     "output_type": "stream",
     "text": [
      "['hand_A', 'hand_A2', 'hand_B', 'hand_C', 'hand_D', 'hand_D2', 'hand_E', 'hand_G', 'hand_H', 'hand_I', 'hand_K', 'hand_L', 'hand_M', 'hand_N', 'hand_O', 'hand_O3', 'hand_P', 'hand_Q', 'hand_R', 'hand_S', 'hand_T', 'hand_U', 'hand_V', 'hand_X', 'hand_Y']\n"
     ]
    }
   ],
   "source": [
    "print(label_names)"
   ]
  },
  {
   "cell_type": "code",
   "execution_count": 254,
   "id": "29fda731",
   "metadata": {},
   "outputs": [],
   "source": [
    "# Initialize the model and optimizer\n",
    "model = ConvNet(num_classes=25)\n",
    "optimizer=optim.Adam(model.parameters(),lr=0.0001,weight_decay=0.0001)\n",
    "loss_function=nn.CrossEntropyLoss()"
   ]
  },
  {
   "cell_type": "code",
   "execution_count": null,
   "id": "e04f092d",
   "metadata": {},
   "outputs": [],
   "source": [
    "best_accuracy=0.0\n",
    "num_epochs = 10\n",
    "for epoch in range(num_epochs):\n",
    "    \n",
    "    #Evaluation and training on training dataset\n",
    "    model.train()\n",
    "    train_accuracy=0.0\n",
    "    train_loss=0.0\n",
    "    test_accuracy=0.0\n",
    "    for i, (images,labels) in enumerate(train_loader):\n",
    "        optimizer.zero_grad()\n",
    "        \n",
    "        outputs=model(images)\n",
    "        _,preds=torch.max(outputs.data, dim = 1)\n",
    "        #print(preds.shape)\n",
    "        labels = np.ones(256)*labels.detach().numpy()\n",
    "        labels = labels.astype(np.int8)\n",
    "        labels = torch.Tensor(labels)\n",
    "        #print(labels)\n",
    "        train_accuracy+=int(torch.sum(preds==labels.data))\n",
    "        #print(test_accuracy)\n",
    "        #print(train_accuracy/256)\n",
    "        #loss=loss_function(outputs,labels)\n",
    "        #loss.backward()\n",
    "        optimizer.step()\n",
    "        \n",
    "    train_accuracy=train_accuracy/256\n",
    "    print('Epoch: '+str(epoch)+' Train Accuracy: '+str(train_accuracy))\n",
    "    torch.save(model.state_dict(),'E:/saved_model/epoch {}_checkpoint.model'.format(epoch+1))"
   ]
  },
  {
   "cell_type": "code",
   "execution_count": 209,
   "id": "78c55f01",
   "metadata": {},
   "outputs": [],
   "source": [
    "# Load the dataset\n",
    "val_dataset = datasets.ImageFolder(\"D:/tay/Data/Data_crop/Data_split/classes_image/image_test/\", transform=transform)\n",
    "\n",
    "# Define the data loader\n",
    "val_loader = DataLoader(val_dataset, batch_size=1, shuffle=True)\n",
    "\n",
    "# Define the label names\n",
    "label_names = val_dataset.classes"
   ]
  },
  {
   "cell_type": "code",
   "execution_count": null,
   "id": "a028ca1d",
   "metadata": {},
   "outputs": [],
   "source": [
    "    # Evaluation on testing dataset\n",
    "    model.eval()\n",
    "    \n",
    "    test_accuracy=0.0\n",
    "    for i, (images,labels) in enumerate(val_loader):\n",
    "        outputs=model(images)\n",
    "        _,prediction=torch.max(outputs.data,1)\n",
    "        test_accuracy+=int(torch.sum(prediction==labels.data))\n",
    "    \n",
    "    test_accuracy=test_accuracy/test_count"
   ]
  },
  {
   "cell_type": "code",
   "execution_count": null,
   "id": "2cab025e",
   "metadata": {},
   "outputs": [],
   "source": [
    "# Evaluate the model on the validation set\n",
    "model.eval()\n",
    "with torch.no_grad():\n",
    "    correct = 0\n",
    "    total = 0\n",
    "    for inputs, labels in val_loader:\n",
    "        outputs = model(inputs)\n",
    "        _, predicted = torch.max(outputs.data, 1)\n",
    "        total += labels.size(0)\n",
    "        correct += (predicted == labels).sum().item()\n",
    "\n",
    "    print(f'Validation Accuracy: {100 * correct / total:.2f}%')"
   ]
  }
 ],
 "metadata": {
  "kernelspec": {
   "display_name": "Python 3 (ipykernel)",
   "language": "python",
   "name": "python3"
  },
  "language_info": {
   "codemirror_mode": {
    "name": "ipython",
    "version": 3
   },
   "file_extension": ".py",
   "mimetype": "text/x-python",
   "name": "python",
   "nbconvert_exporter": "python",
   "pygments_lexer": "ipython3",
   "version": "3.10.9"
  }
 },
 "nbformat": 4,
 "nbformat_minor": 5
}
